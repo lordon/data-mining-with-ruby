{
 "cells": [
  {
   "cell_type": "markdown",
   "metadata": {},
   "source": [
    "# Classification with neuronal network in shogun"
   ]
  },
  {
   "cell_type": "code",
   "execution_count": 1,
   "metadata": {},
   "outputs": [
    {
     "data": {
      "text/plain": [
       "{\"Iris-setosa\"=>0.0, \"Iris-versicolor\"=>1.0, \"Iris-virginica\"=>2.0}"
      ]
     },
     "execution_count": 1,
     "metadata": {},
     "output_type": "execute_result"
    }
   ],
   "source": [
    "require 'shogun'\n",
    "require 'csv'\n",
    "require 'benchmark'\n",
    "\n",
    "LABELS = {\n",
    "  \"Iris-setosa\"     => 0.0, \n",
    "  \"Iris-versicolor\" => 1.0, \n",
    "  \"Iris-virginica\"  => 2.0\n",
    "}"
   ]
  },
  {
   "cell_type": "code",
   "execution_count": 2,
   "metadata": {},
   "outputs": [
    {
     "data": {
      "text/latex": [
       "$$\\left(\\begin{array}{cccccccccccccccccccccccccccccccccccccccccccccccccc} 0.0 & 2.0 & 2.0 & 0.0 & 1.0 & 2.0 & 1.0 & 2.0 & 0.0 & 1.0 & 0.0 & 0.0 & 2.0 & 0.0 & 0.0 & 0.0 & 0.0 & 2.0 & 2.0 & 2.0 & 1.0 & 1.0 & 2.0 & 0.0 & 1.0 & 1.0 & 2.0 & 0.0 & 0.0 & 1.0 & 0.0 & 0.0 & 1.0 & 1.0 & 1.0 & 2.0 & 0.0 & 1.0 & 1.0 & 1.0 & 1.0 & 2.0 & 2.0 & 2.0 & 0.0 & 1.0 & 0.0 & 2.0 & 0.0 & 0.0 \\end{array}\\right)$$"
      ],
      "text/plain": [
       "NArray.float(50): \n",
       "[ 0.0, 2.0, 2.0, 0.0, 1.0, 2.0, 1.0, 2.0, 0.0, 1.0, 0.0, 0.0, 2.0, 0.0, ... ]"
      ]
     },
     "execution_count": 2,
     "metadata": {},
     "output_type": "execute_result"
    }
   ],
   "source": [
    "csv = CSV.read('../datasets/bezdekIrisShuffle.data', { converters: [:float]})\n",
    "training = csv.slice(0, 100).transpose\n",
    "test = csv.slice(100, 50).transpose\n",
    "training_labels = training.pop.map { |label| LABELS[label] }\n",
    "test_labels = test.pop.map { |label| LABELS[label] }\n",
    "NArray.to_na test_labels"
   ]
  },
  {
   "cell_type": "code",
   "execution_count": 3,
   "metadata": {
    "collapsed": true
   },
   "outputs": [],
   "source": [
    "features_train = Shogun::RealFeatures.new\n",
    "features_train.set_feature_matrix training\n",
    "features_test = Shogun::RealFeatures.new\n",
    "features_test.set_feature_matrix test\n",
    "labels_train = Shogun::MulticlassLabels.new\n",
    "labels_train.set_labels training_labels\n",
    "labels_test = Shogun::MulticlassLabels.new\n",
    "labels_test.set_labels test_labels"
   ]
  },
  {
   "cell_type": "code",
   "execution_count": 4,
   "metadata": {
    "collapsed": true
   },
   "outputs": [],
   "source": [
    "num_feats = features_train.get_num_features()\n",
    "layers = Shogun::NeuralLayers.new\n",
    "layers = layers.input(num_feats)\n",
    "layers = layers.rectified_linear(10)\n",
    "layers = layers.softmax(3)\n",
    "all_layers = layers.done()\n",
    "\n",
    "network = Shogun::NeuralNetwork.new all_layers\n",
    "network.set_max_num_epochs(100)\n",
    "network.quick_connect()\n",
    "network.initialize_neural_network(0.01)\n",
    "network.set_labels(labels_train)"
   ]
  },
  {
   "cell_type": "code",
   "execution_count": 5,
   "metadata": {},
   "outputs": [
    {
     "name": "stdout",
     "output_type": "stream",
     "text": [
      "0.010781715001940029\n"
     ]
    }
   ],
   "source": [
    "time = Benchmark.measure {\n",
    "  network.train(features_train)\n",
    "}\n",
    "puts time.real"
   ]
  },
  {
   "cell_type": "code",
   "execution_count": 6,
   "metadata": {},
   "outputs": [
    {
     "data": {
      "text/latex": [
       "$$\\left(\\begin{array}{cccccccccccccccccccccccccccccccccccccccccccccccccc} 0.0 & 2.0 & 2.0 & 0.0 & 1.0 & 2.0 & 1.0 & 2.0 & 0.0 & 1.0 & 0.0 & 0.0 & 2.0 & 0.0 & 0.0 & 0.0 & 0.0 & 2.0 & 2.0 & 2.0 & 1.0 & 1.0 & 2.0 & 0.0 & 1.0 & 1.0 & 2.0 & 0.0 & 0.0 & 1.0 & 0.0 & 0.0 & 1.0 & 1.0 & 1.0 & 2.0 & 0.0 & 1.0 & 1.0 & 1.0 & 1.0 & 2.0 & 2.0 & 2.0 & 0.0 & 1.0 & 0.0 & 2.0 & 0.0 & 0.0 \\end{array}\\right)$$"
      ],
      "text/plain": [
       "NArray.float(50): \n",
       "[ 0.0, 2.0, 2.0, 0.0, 1.0, 2.0, 1.0, 2.0, 0.0, 1.0, 0.0, 0.0, 2.0, 0.0, ... ]"
      ]
     },
     "execution_count": 6,
     "metadata": {},
     "output_type": "execute_result"
    }
   ],
   "source": [
    "labels_predict = network.apply_multiclass(features_test)\n",
    "labels_predict.get_labels"
   ]
  }
 ],
 "metadata": {
  "kernelspec": {
   "display_name": "Ruby 2.2.3",
   "language": "ruby",
   "name": "ruby"
  },
  "language_info": {
   "file_extension": ".rb",
   "mimetype": "application/x-ruby",
   "name": "ruby",
   "version": "2.2.3"
  }
 },
 "nbformat": 4,
 "nbformat_minor": 2
}
